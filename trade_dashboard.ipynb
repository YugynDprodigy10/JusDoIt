# Imports
import pandas as pd
import matplotlib.pyplot as plt
import seaborn as sns

# Configs
sns.set(style="whitegrid")
plt.rcParams["figure.figsize"] = (10, 6)

# Load cleaned data with BPM
df = pd.read_csv('../data/processed/with_bpm.csv')

# Make sure dates are parsed
df['GAME_DATE'] = pd.to_datetime(df['GAME_DATE'])

# Calculate average PTS, AST, etc. pre and post trade
avg_stats = df.groupby(['PLAYER_NAME', 'TRADE_PHASE'])[['PTS', 'AST', 'REB', 'TA_BPM']].mean().reset_index()
pivoted = avg_stats.pivot(index='PLAYER_NAME', columns='TRADE_PHASE')

# Calculate the drop or gain
pivoted.columns = ['_'.join(col).strip() for col in pivoted.columns.values]
pivoted['PTS_DIFF'] = pivoted['PTS_Post'] - pivoted['PTS_Pre']
pivoted['AST_DIFF'] = pivoted['AST_Post'] - pivoted['AST_Pre']
pivoted['BPM_DIFF'] = pivoted['TA_BPM_Post'] - pivoted['TA_BPM_Pre']
pivoted = pivoted.dropna()
pivoted = pivoted.sort_values(by='PTS_DIFF')

# Barplot for PTS change
pivoted[['PTS_DIFF']].plot(kind='barh', legend=False)
plt.title('Change in PPG After Trade')
plt.xlabel('Δ PPG')
plt.tight_layout()
plt.show()


# Calculate average PTS, AST, etc. pre and post trade
avg_stats = df.groupby(['PLAYER_NAME', 'TRADE_PHASE'])[['PTS', 'AST', 'REB', 'TA_BPM']].mean().reset_index()
pivoted = avg_stats.pivot(index='PLAYER_NAME', columns='TRADE_PHASE')

# Calculate the drop or gain
pivoted.columns = ['_'.join(col).strip() for col in pivoted.columns.values]
pivoted['PTS_DIFF'] = pivoted['PTS_Post'] - pivoted['PTS_Pre']
pivoted['AST_DIFF'] = pivoted['AST_Post'] - pivoted['AST_Pre']
pivoted['BPM_DIFF'] = pivoted['TA_BPM_Post'] - pivoted['TA_BPM_Pre']
pivoted = pivoted.dropna()
pivoted = pivoted.sort_values(by='PTS_DIFF')

# Barplot for PTS change
pivoted[['PTS_DIFF']].plot(kind='barh', legend=False)
plt.title('Change in PPG After Trade')
plt.xlabel('Δ PPG')
plt.tight_layout()
plt.show()


sns.boxplot(x='TRADE_PHASE', y='TA_BPM', data=df)
plt.title('TA-BPM Distribution Before vs After Trade')
plt.xlabel('Trade Phase')
plt.ylabel('Trade-Adjusted BPM')
plt.show()


# Choose a player
player = 'James Harden'
harden_df = df[df['PLAYER_NAME'] == player].sort_values(by='GAME_DATE')

# Line plot of PTS over time
plt.plot(harden_df['GAME_DATE'], harden_df['PTS'], label='PTS')
plt.axvline(x=harden_df[harden_df['TRADE_PHASE'] == 'Post'].iloc[0]['GAME_DATE'], color='red', linestyle='--', label='Trade')
plt.title(f'{player} PTS Game Log')
plt.xlabel('Date')
plt.ylabel('Points')
plt.legend()
plt.show()


